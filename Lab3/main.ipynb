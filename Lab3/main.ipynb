{
 "cells": [
  {
   "cell_type": "code",
   "execution_count": 1,
   "metadata": {},
   "outputs": [],
   "source": [
    "import numpy as np\n",
    "from numpy import asarray\n",
    "from PIL import Image\n",
    "import matplotlib.pyplot as plt"
   ]
  },
  {
   "cell_type": "code",
   "execution_count": 758,
   "metadata": {},
   "outputs": [
    {
     "data": {
      "text/plain": [
       "<matplotlib.image.AxesImage at 0x144f763b040>"
      ]
     },
     "execution_count": 758,
     "metadata": {},
     "output_type": "execute_result"
    },
    {
     "data": {
      "image/png": "[encoded data removed]",
      "text/plain": [
       "<Figure size 640x480 with 1 Axes>"
      ]
     },
     "metadata": {},
     "output_type": "display_data"
    }
   ],
   "source": [
    "img = Image.open('four.png')\n",
    "data = asarray(img)\n",
    "plt.imshow(data)"
   ]
  },
  {
   "cell_type": "code",
   "execution_count": 710,
   "metadata": {},
   "outputs": [],
   "source": [
    "def Conv2d(image: np.ndarray, kernel: np.ndarray, stride: int) -> np.ndarray:\n",
    "    m, n = kernel.shape\n",
    "    w, y, x = image.shape\n",
    "    img = np.zeros((w, y+stride*2, x+stride*2))\n",
    "    img[:, stride:y+stride, stride:x+stride] = image\n",
    "    image = img\n",
    "    new_image = np.zeros((w, y+stride*2-m+1,x+stride*2-n+1))\n",
    "    for i in range(y+stride*2-m+1):\n",
    "        for j in range(x+stride*2-n+1):\n",
    "            new_image[:, i, j] = np.sum(image[:, i:i+m, j:j+n]*kernel, (1, 2))\n",
    "    return new_image"
   ]
  },
  {
   "cell_type": "code",
   "execution_count": 204,
   "metadata": {},
   "outputs": [],
   "source": [
    "def Diff2d(img: np.ndarray) -> np.ndarray:\n",
    "    Scharr_y = np.array([[ 3,  10,  3],\n",
    "                         [ 0,   0,  0],\n",
    "                         [-3, -10, -3]])\n",
    "    Scharr_x = np.array([[3,  0,  -3],\n",
    "                         [10, 0, -10],\n",
    "                         [3,  0,  -3]])\n",
    "    img_x = Conv2d(img, Scharr_x, 2)\n",
    "    img_y = Conv2d(img, Scharr_y, 2)\n",
    "    return np.sqrt(img_x**2+img_y**2)"
   ]
  },
  {
   "cell_type": "code",
   "execution_count": 835,
   "metadata": {},
   "outputs": [],
   "source": [
    "def Conv2d_diff(loss: np.ndarray, image: np.ndarray, kernel: np.ndarray, stride: int) -> np.ndarray:\n",
    "    x = np.array([Conv2d(image[l][None,:,:], loss[l], stride) for l in range(loss.shape[0])])\n",
    "    out = Conv2d(loss, kernel, stride)\n",
    "    return x, out"
   ]
  },
  {
   "cell_type": "code",
   "execution_count": 716,
   "metadata": {},
   "outputs": [],
   "source": [
    "def Linear(data: np.ndarray, weights: np.ndarray) -> np.ndarray:\n",
    "    return data @ weights"
   ]
  },
  {
   "cell_type": "code",
   "execution_count": 734,
   "metadata": {},
   "outputs": [],
   "source": [
    "def Linear_diff(loss: np.ndarray, data: np.ndarray, weights: np.ndarray) -> np.ndarray:\n",
    "    return  data[:, :, None] * loss[:, None, :], loss @ np.linalg.pinv(weights)"
   ]
  },
  {
   "cell_type": "code",
   "execution_count": 720,
   "metadata": {},
   "outputs": [],
   "source": [
    "def MSE(Y_p: np.ndarray, Y_e: np.ndarray) -> np.ndarray:\n",
    "    return ((Y_p-Y_e)**2).sum(1)/Y_p.size"
   ]
  },
  {
   "cell_type": "code",
   "execution_count": 132,
   "metadata": {},
   "outputs": [],
   "source": [
    "def MSE_diff(Y_p: np.ndarray, Y_e: np.ndarray) -> np.ndarray:\n",
    "    return 2*(Y_p-Y_e)"
   ]
  },
  {
   "cell_type": "code",
   "execution_count": 357,
   "metadata": {},
   "outputs": [],
   "source": [
    "def sigmoid(X):\n",
    "    return 1 / (1 + np.exp(-X))\n",
    "    \n",
    "def anover_sigmoid(X):\n",
    "    return np.exp(X) / (np.exp(X) + 1)\n",
    "    \n",
    "def stable_sigmoid(X):\n",
    "    return sigmoid(X*(X >= 0))*(X >= 0) + anover_sigmoid(X*(X < 0))*(X < 0)\n",
    "\n",
    "def Sigmoid(data: np.ndarray) -> np.ndarray:\n",
    "    return stable_sigmoid(data)"
   ]
  },
  {
   "cell_type": "code",
   "execution_count": 463,
   "metadata": {},
   "outputs": [],
   "source": [
    "def Sigmoid_diff(data: np.ndarray) -> np.ndarray:\n",
    "    return Sigmoid(data)*(1-Sigmoid(data))"
   ]
  },
  {
   "cell_type": "code",
   "execution_count": 466,
   "metadata": {},
   "outputs": [],
   "source": [
    "def Sigmoid_diff1(loss, data: np.ndarray) -> np.ndarray:\n",
    "    return loss* data*(1-data)"
   ]
  },
  {
   "cell_type": "code",
   "execution_count": 42,
   "metadata": {},
   "outputs": [],
   "source": [
    "def ReLU(data: np.ndarray) -> np.ndarray:\n",
    "    return data*(data>0)"
   ]
  },
  {
   "cell_type": "code",
   "execution_count": 513,
   "metadata": {},
   "outputs": [],
   "source": [
    "def ReLU_diff(data: np.ndarray) -> np.ndarray:\n",
    "    return 1.*(data>0)\n",
    "def ReLU_diff1(loss, data: np.ndarray) -> np.ndarray:\n",
    "    return loss*(data>0)"
   ]
  },
  {
   "cell_type": "code",
   "execution_count": 850,
   "metadata": {},
   "outputs": [],
   "source": [
    "kernel = np.random.random((7,7))\n",
    "weights = np.random.random((28**2, 10))\n",
    "Y_e = [0,0,0,0,1,0,0,0,0,0]\n",
    "Y_e = np.array([Y_e for i in range(4)])"
   ]
  },
  {
   "cell_type": "code",
   "execution_count": null,
   "metadata": {},
   "outputs": [],
   "source": [
    "\n",
    "data = np.array([data for i in range(4)])"
   ]
  },
  {
   "cell_type": "code",
   "execution_count": 702,
   "metadata": {},
   "outputs": [
    {
     "data": {
      "text/plain": [
       "<matplotlib.image.AxesImage at 0x144f782e860>"
      ]
     },
     "execution_count": 702,
     "metadata": {},
     "output_type": "execute_result"
    },
    {
     "data": {
      "image/png": "[encoded data removed]",
      "text/plain": [
       "<Figure size 640x480 with 1 Axes>"
      ]
     },
     "metadata": {},
     "output_type": "display_data"
    }
   ],
   "source": [
    "plt.imshow(Conv2d(data, Scharr_y, 1))"
   ]
  },
  {
   "cell_type": "code",
   "execution_count": 701,
   "metadata": {},
   "outputs": [
    {
     "data": {
      "text/plain": [
       "<matplotlib.image.AxesImage at 0x144f76b66e0>"
      ]
     },
     "execution_count": 701,
     "metadata": {},
     "output_type": "execute_result"
    },
    {
     "data": {
      "image/png": "[encoded data removed]",
      "text/plain": [
       "<Figure size 640x480 with 1 Axes>"
      ]
     },
     "metadata": {},
     "output_type": "display_data"
    }
   ],
   "source": [
    "plt.imshow(Conv2d(data, kernel, 1))"
   ]
  },
  {
   "cell_type": "code",
   "execution_count": 854,
   "metadata": {},
   "outputs": [],
   "source": [
    "l = np.zeros((500))\n",
    "for i in range(500):\n",
    "    x1 = Conv2d(data, kernel, 3)\n",
    "    x2 = x1.reshape((4,28**2))\n",
    "    x3 = Linear(x2, weights)\n",
    "    x3max = np.abs(x3).max()\n",
    "    x4 = Sigmoid(x3/x3max)\n",
    "    x5 = MSE(x4, Y_e)\n",
    "    l[i] = x5.sum()\n",
    "    y1 = MSE_diff(x4, Y_e)\n",
    "    y2 = Sigmoid_diff1(y1, x4)\n",
    "    w, y3 = Linear_diff(y2, x2, weights)\n",
    "    weights-=0.01*w.mean(0)\n",
    "    y4 = y3.reshape((data.shape[0], 28, 28))\n",
    "    k, _ = Conv2d_diff(y4, data, kernel, 3)\n",
    "    kernel-=0.01*k.mean(0)[0]"
   ]
  },
  {
   "cell_type": "code",
   "execution_count": 855,
   "metadata": {},
   "outputs": [
    {
     "data": {
      "image/png": "[encoded data removed]",
      "text/plain": [
       "<Figure size 640x480 with 1 Axes>"
      ]
     },
     "metadata": {},
     "output_type": "display_data"
    }
   ],
   "source": [
    "plt.plot(l);"
   ]
  },
  {
   "cell_type": "code",
   "execution_count": 747,
   "metadata": {},
   "outputs": [],
   "source": [
    "x1 = Conv2d(data, kernel, 3)\n",
    "x2 = x1.reshape((data.shape[0],28**2))\n",
    "x3 = Linear(x2, weights)\n",
    "x3max = np.abs(x3).max()\n",
    "x4 = Sigmoid(x3/x3max)\n",
    "x5 = MSE(x4, Y_e)\n",
    "y1 = MSE_diff(x4, Y_e)\n",
    "y2 = Sigmoid_diff1(y1, x3)\n",
    "w, y3 = Linear_diff(y2, x2, weights)\n",
    "y4 = y3.reshape((data.shape[0], 28, 28))\n",
    "k, _ = Conv2d_diff(y4, data, kernel, 3)"
   ]
  }
 ],
 "metadata": {
  "kernelspec": {
   "display_name": "Python 3",
   "language": "python",
   "name": "python3"
  },
  "language_info": {
   "codemirror_mode": {
    "name": "ipython",
    "version": 3
   },
   "file_extension": ".py",
   "mimetype": "text/x-python",
   "name": "python",
   "nbconvert_exporter": "python",
   "pygments_lexer": "ipython3",
   "version": "3.10.11"
  },
  "orig_nbformat": 4
 },
 "nbformat": 4,
 "nbformat_minor": 2
}
