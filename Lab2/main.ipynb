{
 "cells": [
  {
   "cell_type": "code",
   "execution_count": 1,
   "metadata": {},
   "outputs": [],
   "source": [
    "import numpy as np\n",
    "from matplotlib import pyplot as plt\n",
    "import pandas as pd\n",
    "from sklearn.datasets import load_wine\n",
    "from sklearn.model_selection import train_test_split\n",
    "from scipy.stats import norm\n",
    "import torch\n",
    "import torch.nn as nn\n",
    "import torch.nn.functional as F\n",
    "from torch.utils.data import DataLoader, Dataset\n",
    "from tqdm.notebook import trange, tqdm"
   ]
  },
  {
   "cell_type": "code",
   "execution_count": 2,
   "metadata": {},
   "outputs": [],
   "source": [
    "wine = load_wine(as_frame=True).frame\n",
    "X_train, X_val, y_train, y_val = train_test_split(wine.drop(columns = \"target\"), wine['target'], random_state=44)"
   ]
  },
  {
   "cell_type": "code",
   "execution_count": 3,
   "metadata": {},
   "outputs": [],
   "source": [
    "class CustomDataset(Dataset):\n",
    "    def __init__(self, X, Y):\n",
    "        self.labels = torch.tensor(Y).float()\n",
    "        self.data = torch.tensor(X).float()\n",
    "        self.current = 0\n",
    "\n",
    "    def __len__(self):\n",
    "        return len(self.labels)\n",
    "\n",
    "    def __getitem__(self, idx):\n",
    "        data = self.data[idx]\n",
    "        label = int(self.labels[idx])\n",
    "        return data, label\n",
    "    \n",
    "    def __iter__(self):\n",
    "        self.current = 0\n",
    "        return self\n",
    "    \n",
    "    def __next__(self):\n",
    "        if self.current < self.__len__():\n",
    "            self.current += 1\n",
    "            return self.__getitem__(self.current-1)\n",
    "        raise StopIteration"
   ]
  },
  {
   "cell_type": "code",
   "execution_count": 48,
   "metadata": {},
   "outputs": [],
   "source": [
    "batch_size = 100\n",
    "\n",
    "train_data = CustomDataset(X_train.values, y_train.values)\n",
    "test_data = CustomDataset(X_val.values, y_val.values)\n",
    "\n",
    "train_loader = DataLoader(train_data, batch_size=batch_size, shuffle= True)\n",
    "test_loader = DataLoader(test_data, batch_size=batch_size, shuffle= False)"
   ]
  },
  {
   "cell_type": "code",
   "execution_count": 5,
   "metadata": {},
   "outputs": [],
   "source": [
    "def init_batch_generator(dataloader: torch.utils.data.DataLoader):\n",
    "    \"\"\"\n",
    "    Возвращает функцию, вызов которой возвращает следующие batch_size\n",
    "    примеров и им соответствуюющих меток из train_data, train_labels.\n",
    "    \n",
    "    Примеры выбираются последовательно, по кругу. Массивы с входными \n",
    "    примерами и метками классов перемешиваются в начале каждого круга.\n",
    "    \"\"\"\n",
    "    def f():\n",
    "        while True:\n",
    "            for i, (images, labels) in enumerate(dataloader):\n",
    "                yield images, labels\n",
    "    return f()"
   ]
  },
  {
   "cell_type": "code",
   "execution_count": 104,
   "metadata": {},
   "outputs": [],
   "source": [
    "class Classifier2(nn.Module):\n",
    "    def __init__(self,\n",
    "                 size_in: int = 13,\n",
    "                 size_out: int = 3): \n",
    "        super(Classifier2, self).__init__()\n",
    "        self.fc1 = nn.Linear(size_in, 8)\n",
    "        self.fc2 = nn.Linear(8, size_out)\n",
    "        self.LReLU = nn.LeakyReLU(0.1)\n",
    "        self.dropout = nn.Dropout(0.2)\n",
    "    \n",
    "    def forward(self, x):\n",
    "        x = self.fc1(x)\n",
    "        x = self.LReLU(x)\n",
    "        #x = self.dropout(x)\n",
    "        x = self.fc2(x)\n",
    "        x = self.LReLU(x)\n",
    "        return x"
   ]
  },
  {
   "cell_type": "code",
   "execution_count": 133,
   "metadata": {},
   "outputs": [],
   "source": [
    "net = Classifier2()"
   ]
  },
  {
   "cell_type": "code",
   "execution_count": 163,
   "metadata": {},
   "outputs": [],
   "source": [
    "criterion = nn.L1Loss()\n",
    "optimizer = torch.optim.Adagrad(net.parameters(), lr=0.00001)"
   ]
  },
  {
   "cell_type": "code",
   "execution_count": 97,
   "metadata": {},
   "outputs": [],
   "source": [
    "#criterion = nn.MSELoss()\n",
    "criterion = nn.L1Loss()\n",
    "optimizer = torch.optim.RMSprop(net.parameters(), lr=0.001)"
   ]
  },
  {
   "cell_type": "code",
   "execution_count": 56,
   "metadata": {},
   "outputs": [],
   "source": [
    "class Metrics:\n",
    "    def __init__(self, lables, predicted):\n",
    "        leble = lables.unique()\n",
    "        self.matrix = np.zeros((leble.size, leble.size))\n",
    "        for i in range(leble.size):\n",
    "            for j in range(leble.size):\n",
    "                self.matrix[i, j]=((leble[j]==predicted)*(lables==leble[i])).sum()\n",
    "    \n",
    "    def accuracy(self):\n",
    "        return np.array([self.matrix.diagonal().sum()/self.matrix.sum()\n",
    "                         if self.matrix.diagonal().sum() != 0 else 0.\n",
    "                         for i in range(self.matrix.shape[0])])\n",
    "    def precision(self):\n",
    "        return np.array([self.matrix[i,i]/self.matrix[i,:].sum()\n",
    "                         if self.matrix[i,i] != 0 else 0.\n",
    "                         for i in range(self.matrix.shape[0])])\n",
    "    def recall(self):\n",
    "        return np.array([self.matrix[i,i]/self.matrix[:,i].sum()\n",
    "                         if self.matrix[i,i] != 0 else 0.\n",
    "                         for i in range(self.matrix.shape[0])])\n",
    "    def FPR(self):\n",
    "        return np.array([(self.matrix[i,:].sum()-self.matrix[i,i])/(self.matrix[:,i].sum()+self.matrix[i,:].sum()-2*self.matrix[i,i])\n",
    "                         if (self.matrix[i,:].sum()-self.matrix[i,i]) != 0 else 0.\n",
    "                         for i in range(self.matrix.shape[0])])\n",
    "    def TPR(self):\n",
    "        return np.array([self.matrix[i,i]/self.matrix[:,i].sum()\n",
    "                         if self.matrix[i,i] != 0 else 0.\n",
    "                         for i in range(self.matrix.shape[0])])\n",
    "    def F(self, b = 1):\n",
    "        b=b**2\n",
    "        return (1+b)*self.precision()*self.recall()/(b*self.precision()+self.recall())\n",
    "    def all(self, b=1):\n",
    "        return pd.DataFrame(np.array([self.accuracy(), self.precision(), self.recall(), self.FPR(), self.TPR(), self.F(b)]).T,\n",
    "                            columns=[\"accuracy\", \"precision\", \"recall\", \"FPR\", \"TPR\", \"F\"])"
   ]
  },
  {
   "cell_type": "code",
   "execution_count": 87,
   "metadata": {},
   "outputs": [],
   "source": [
    "def train(net: nn.Module,\n",
    "          train_loader: torch.utils.data.DataLoader,\n",
    "          criterion: nn.Module,\n",
    "          optimizer: torch.optim.Optimizer,\n",
    "          num_epochs: int = 5):\n",
    "    net.train()\n",
    "\n",
    "    data_iterator = init_batch_generator(train_loader)\n",
    "    progress = trange(num_epochs*len(train_loader))\n",
    "    loss_arr = list()\n",
    "    accuracy_arr = list()\n",
    "\n",
    "    for epoch in progress:\n",
    "        data, labels = next(data_iterator)\n",
    "        outputs = net(data)\n",
    "        loss = criterion(outputs, torch.tensor([[ 1. if j == labels[i] else 0. for j in range(3)] for i in range(len(labels))]))\n",
    "        \n",
    "        optimizer.zero_grad()\n",
    "        loss.backward()\n",
    "        optimizer.step()\n",
    "\n",
    "        total = labels.size(0)\n",
    "        _, predicted = torch.max(outputs.data, 1)\n",
    "        correct = (predicted == labels).sum().item()\n",
    "        loss_arr.append(loss.item())\n",
    "        accuracy_arr.append(correct)\n",
    "\n",
    "        progress.set_postfix_str(f\"Loss: {loss.item() :.4f}, Accuracy: {(correct / total) * 100 :.2f}%\")\n",
    "    return loss_arr, accuracy_arr"
   ]
  },
  {
   "cell_type": "code",
   "execution_count": 164,
   "metadata": {},
   "outputs": [
    {
     "data": {
      "application/vnd.jupyter.widget-view+json": {
       "model_id": "98f7e6b258e24885bd4c507a9ad5d7f9",
       "version_major": 2,
       "version_minor": 0
      },
      "text/plain": [
       "  0%|          | 0/2000 [00:00<?, ?it/s]"
      ]
     },
     "metadata": {},
     "output_type": "display_data"
    }
   ],
   "source": [
    "out = train(net, train_loader, criterion, optimizer, 1000)"
   ]
  },
  {
   "cell_type": "code",
   "execution_count": 165,
   "metadata": {},
   "outputs": [
    {
     "data": {
      "text/plain": [
       "Text(0, 0.5, 'loss')"
      ]
     },
     "execution_count": 165,
     "metadata": {},
     "output_type": "execute_result"
    },
    {
     "data": {
      "image/png": "[encoded data removed]",
      "text/plain": [
       "<Figure size 640x480 with 1 Axes>"
      ]
     },
     "metadata": {},
     "output_type": "display_data"
    }
   ],
   "source": [
    "plt.plot(out[0])\n",
    "plt.xlabel('Число эпох')\n",
    "plt.ylabel('loss')"
   ]
  },
  {
   "cell_type": "code",
   "execution_count": 166,
   "metadata": {},
   "outputs": [
    {
     "data": {
      "text/plain": [
       "Text(0, 0.5, 'accuracy, %')"
      ]
     },
     "execution_count": 166,
     "metadata": {},
     "output_type": "execute_result"
    },
    {
     "data": {
      "image/png": "[encoded data removed]",
      "text/plain": [
       "<Figure size 640x480 with 1 Axes>"
      ]
     },
     "metadata": {},
     "output_type": "display_data"
    }
   ],
   "source": [
    "plt.plot(out[1])\n",
    "plt.xlabel('Число эпох')\n",
    "plt.ylabel('accuracy, %')"
   ]
  },
  {
   "cell_type": "code",
   "execution_count": 167,
   "metadata": {},
   "outputs": [
    {
     "data": {
      "text/html": [
       "<div>\n",
       "<style scoped>\n",
       "    .dataframe tbody tr th:only-of-type {\n",
       "        vertical-align: middle;\n",
       "    }\n",
       "\n",
       "    .dataframe tbody tr th {\n",
       "        vertical-align: top;\n",
       "    }\n",
       "\n",
       "    .dataframe thead th {\n",
       "        text-align: right;\n",
       "    }\n",
       "</style>\n",
       "<table border=\"1\" class=\"dataframe\">\n",
       "  <thead>\n",
       "    <tr style=\"text-align: right;\">\n",
       "      <th></th>\n",
       "      <th>accuracy</th>\n",
       "      <th>precision</th>\n",
       "      <th>recall</th>\n",
       "      <th>FPR</th>\n",
       "      <th>TPR</th>\n",
       "      <th>F</th>\n",
       "    </tr>\n",
       "  </thead>\n",
       "  <tbody>\n",
       "    <tr>\n",
       "      <th>0</th>\n",
       "      <td>0.955556</td>\n",
       "      <td>0.944444</td>\n",
       "      <td>1.000000</td>\n",
       "      <td>1.0</td>\n",
       "      <td>1.000000</td>\n",
       "      <td>0.971429</td>\n",
       "    </tr>\n",
       "    <tr>\n",
       "      <th>1</th>\n",
       "      <td>0.955556</td>\n",
       "      <td>0.944444</td>\n",
       "      <td>0.944444</td>\n",
       "      <td>0.5</td>\n",
       "      <td>0.944444</td>\n",
       "      <td>0.944444</td>\n",
       "    </tr>\n",
       "    <tr>\n",
       "      <th>2</th>\n",
       "      <td>0.955556</td>\n",
       "      <td>1.000000</td>\n",
       "      <td>0.900000</td>\n",
       "      <td>0.0</td>\n",
       "      <td>0.900000</td>\n",
       "      <td>0.947368</td>\n",
       "    </tr>\n",
       "  </tbody>\n",
       "</table>\n",
       "</div>"
      ],
      "text/plain": [
       "   accuracy  precision    recall  FPR       TPR         F\n",
       "0  0.955556   0.944444  1.000000  1.0  1.000000  0.971429\n",
       "1  0.955556   0.944444  0.944444  0.5  0.944444  0.944444\n",
       "2  0.955556   1.000000  0.900000  0.0  0.900000  0.947368"
      ]
     },
     "execution_count": 167,
     "metadata": {},
     "output_type": "execute_result"
    }
   ],
   "source": [
    "_, predicted = torch.max(net(torch.tensor(X_val.values).float()), 1)\n",
    "metrics = Metrics(y_val, predicted)\n",
    "metrics.all()"
   ]
  },
  {
   "cell_type": "code",
   "execution_count": null,
   "metadata": {},
   "outputs": [],
   "source": []
  }
 ],
 "metadata": {
  "kernelspec": {
   "display_name": "Python 3",
   "language": "python",
   "name": "python3"
  },
  "language_info": {
   "codemirror_mode": {
    "name": "ipython",
    "version": 3
   },
   "file_extension": ".py",
   "mimetype": "text/x-python",
   "name": "python",
   "nbconvert_exporter": "python",
   "pygments_lexer": "ipython3",
   "version": "3.10.11"
  },
  "orig_nbformat": 4
 },
 "nbformat": 4,
 "nbformat_minor": 2
}
